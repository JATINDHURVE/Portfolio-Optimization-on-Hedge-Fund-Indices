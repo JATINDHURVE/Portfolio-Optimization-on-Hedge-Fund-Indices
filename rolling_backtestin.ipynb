{
 "cells": [
  {
   "cell_type": "code",
   "execution_count": 1,
   "id": "8bdf7859",
   "metadata": {},
   "outputs": [],
   "source": [
    "import pandas as pd\n",
    "import matplotlib.pyplot as plt\n",
    "import matplotlib.cm as cm\n",
    "import numpy as np"
   ]
  },
  {
   "cell_type": "code",
   "execution_count": 2,
   "id": "f3b351a6",
   "metadata": {},
   "outputs": [
    {
     "data": {
      "text/html": [
       "<div>\n",
       "<style scoped>\n",
       "    .dataframe tbody tr th:only-of-type {\n",
       "        vertical-align: middle;\n",
       "    }\n",
       "\n",
       "    .dataframe tbody tr th {\n",
       "        vertical-align: top;\n",
       "    }\n",
       "\n",
       "    .dataframe thead th {\n",
       "        text-align: right;\n",
       "    }\n",
       "</style>\n",
       "<table border=\"1\" class=\"dataframe\">\n",
       "  <thead>\n",
       "    <tr style=\"text-align: right;\">\n",
       "      <th></th>\n",
       "      <th>HFRI4FWC</th>\n",
       "      <th>HFRI4ELS</th>\n",
       "      <th>HFRI4ED</th>\n",
       "      <th>HFRI4EHV</th>\n",
       "    </tr>\n",
       "    <tr>\n",
       "      <th>Date</th>\n",
       "      <th></th>\n",
       "      <th></th>\n",
       "      <th></th>\n",
       "      <th></th>\n",
       "    </tr>\n",
       "  </thead>\n",
       "  <tbody>\n",
       "    <tr>\n",
       "      <th>2005-01-31</th>\n",
       "      <td>0.0047</td>\n",
       "      <td>0.0067</td>\n",
       "      <td>0.0012</td>\n",
       "      <td>0.0049</td>\n",
       "    </tr>\n",
       "    <tr>\n",
       "      <th>2005-02-28</th>\n",
       "      <td>0.0198</td>\n",
       "      <td>0.0279</td>\n",
       "      <td>0.0111</td>\n",
       "      <td>0.0219</td>\n",
       "    </tr>\n",
       "    <tr>\n",
       "      <th>2005-03-31</th>\n",
       "      <td>-0.0103</td>\n",
       "      <td>-0.0172</td>\n",
       "      <td>0.0002</td>\n",
       "      <td>-0.0111</td>\n",
       "    </tr>\n",
       "    <tr>\n",
       "      <th>2005-04-29</th>\n",
       "      <td>-0.0124</td>\n",
       "      <td>-0.0165</td>\n",
       "      <td>-0.0105</td>\n",
       "      <td>-0.0137</td>\n",
       "    </tr>\n",
       "    <tr>\n",
       "      <th>2005-05-31</th>\n",
       "      <td>0.0079</td>\n",
       "      <td>0.0122</td>\n",
       "      <td>0.0064</td>\n",
       "      <td>0.0122</td>\n",
       "    </tr>\n",
       "  </tbody>\n",
       "</table>\n",
       "</div>"
      ],
      "text/plain": [
       "            HFRI4FWC  HFRI4ELS  HFRI4ED  HFRI4EHV\n",
       "Date                                             \n",
       "2005-01-31    0.0047    0.0067   0.0012    0.0049\n",
       "2005-02-28    0.0198    0.0279   0.0111    0.0219\n",
       "2005-03-31   -0.0103   -0.0172   0.0002   -0.0111\n",
       "2005-04-29   -0.0124   -0.0165  -0.0105   -0.0137\n",
       "2005-05-31    0.0079    0.0122   0.0064    0.0122"
      ]
     },
     "execution_count": 2,
     "metadata": {},
     "output_type": "execute_result"
    }
   ],
   "source": [
    "hf_df = pd.read_excel(\"Data/hedge_funds_returns_data.xlsx\")\n",
    "\n",
    "short_mapping = {\n",
    "    'Date': 'Date',\n",
    "    'HFRI 400 (US) Fund Weighted Composite Index (HFRI4FWC)': 'HFRI4FWC',\n",
    "    'HFRI 400 (US) EH: Long/Short Index (HFRI4ELS)': 'HFRI4ELS',\n",
    "    'HFRI 400 (US) EH: Fundamental Value Index (HFRI4EHV)': 'HFRI4EHV',\n",
    "    'HFRI 400 (US) Event-Driven Index (HFRI4ED)': 'HFRI4ED'\n",
    "    \n",
    "}\n",
    "\n",
    "hf_df = hf_df.rename(columns=short_mapping)\n",
    "# ADD THESE LINES TO FIX THE ISSUE:\n",
    "hf_df['Date'] = pd.to_datetime(hf_df['Date'])\n",
    "hf_df = hf_df.set_index('Date')\n",
    "hf_df.head()"
   ]
  },
  {
   "cell_type": "code",
   "execution_count": 3,
   "id": "1a6ae252",
   "metadata": {},
   "outputs": [],
   "source": [
    "# Read the Excel files\n",
    "portfolio_weights_05 = pd.read_excel('all_output_results/agg_portfolio_weights.xlsx')\n",
    "portfolio_weights_10 = pd.read_excel('all_output_results/cons_portfolio_weights.xlsx')"
   ]
  },
  {
   "cell_type": "code",
   "execution_count": 23,
   "id": "cd29aa9d",
   "metadata": {},
   "outputs": [
    {
     "data": {
      "text/html": [
       "<div>\n",
       "<style scoped>\n",
       "    .dataframe tbody tr th:only-of-type {\n",
       "        vertical-align: middle;\n",
       "    }\n",
       "\n",
       "    .dataframe tbody tr th {\n",
       "        vertical-align: top;\n",
       "    }\n",
       "\n",
       "    .dataframe thead th {\n",
       "        text-align: right;\n",
       "    }\n",
       "</style>\n",
       "<table border=\"1\" class=\"dataframe\">\n",
       "  <thead>\n",
       "    <tr style=\"text-align: right;\">\n",
       "      <th></th>\n",
       "      <th>Quarter</th>\n",
       "      <th>HFRI4FWC</th>\n",
       "      <th>HFRI4ELS</th>\n",
       "      <th>HFRI4EHV</th>\n",
       "      <th>HFRI4ED</th>\n",
       "    </tr>\n",
       "  </thead>\n",
       "  <tbody>\n",
       "    <tr>\n",
       "      <th>0</th>\n",
       "      <td>Q1 2012</td>\n",
       "      <td>0.000000</td>\n",
       "      <td>0.000000</td>\n",
       "      <td>1.000000</td>\n",
       "      <td>0.0</td>\n",
       "    </tr>\n",
       "    <tr>\n",
       "      <th>1</th>\n",
       "      <td>Q2 2012</td>\n",
       "      <td>1.000000</td>\n",
       "      <td>0.000000</td>\n",
       "      <td>0.000000</td>\n",
       "      <td>0.0</td>\n",
       "    </tr>\n",
       "    <tr>\n",
       "      <th>2</th>\n",
       "      <td>Q3 2012</td>\n",
       "      <td>0.290184</td>\n",
       "      <td>0.318241</td>\n",
       "      <td>0.391575</td>\n",
       "      <td>0.0</td>\n",
       "    </tr>\n",
       "    <tr>\n",
       "      <th>3</th>\n",
       "      <td>Q4 2012</td>\n",
       "      <td>0.656132</td>\n",
       "      <td>0.000000</td>\n",
       "      <td>0.343868</td>\n",
       "      <td>0.0</td>\n",
       "    </tr>\n",
       "    <tr>\n",
       "      <th>4</th>\n",
       "      <td>Q1 2013</td>\n",
       "      <td>0.000000</td>\n",
       "      <td>0.000000</td>\n",
       "      <td>1.000000</td>\n",
       "      <td>0.0</td>\n",
       "    </tr>\n",
       "  </tbody>\n",
       "</table>\n",
       "</div>"
      ],
      "text/plain": [
       "   Quarter  HFRI4FWC  HFRI4ELS  HFRI4EHV  HFRI4ED\n",
       "0  Q1 2012  0.000000  0.000000  1.000000      0.0\n",
       "1  Q2 2012  1.000000  0.000000  0.000000      0.0\n",
       "2  Q3 2012  0.290184  0.318241  0.391575      0.0\n",
       "3  Q4 2012  0.656132  0.000000  0.343868      0.0\n",
       "4  Q1 2013  0.000000  0.000000  1.000000      0.0"
      ]
     },
     "execution_count": 23,
     "metadata": {},
     "output_type": "execute_result"
    }
   ],
   "source": [
    "portfolio_weights_05.head()"
   ]
  },
  {
   "cell_type": "code",
   "execution_count": 24,
   "id": "69d685b1",
   "metadata": {},
   "outputs": [],
   "source": [
    "def calculate_monthly_portfolio_returns():\n",
    "    \"\"\"Calculate monthly portfolio returns for both risk aversion levels\"\"\"\n",
    "    \n",
    "    # Get fund columns (exclude 'Quarter' column)\n",
    "    fund_columns = [col for col in portfolio_weights_05.columns if col != 'Quarter']\n",
    "    \n",
    "    # Create a dictionary to store weights by quarter\n",
    "    weights_dict_05 = {}\n",
    "    weights_dict_10 = {}\n",
    "    \n",
    "    # Process weights from both DataFrames\n",
    "    for _, row in portfolio_weights_05.iterrows():\n",
    "        quarter = row['Quarter']\n",
    "        weights = []\n",
    "        for fund in fund_columns:\n",
    "            weight = row[fund]\n",
    "            if isinstance(weight, str) and '%' in weight:\n",
    "                weight = float(weight.replace('%', '')) / 100\n",
    "            weights.append(weight)\n",
    "        weights_dict_05[quarter] = weights\n",
    "    \n",
    "    for _, row in portfolio_weights_10.iterrows():\n",
    "        quarter = row['Quarter']\n",
    "        weights = []\n",
    "        for fund in fund_columns:\n",
    "            weight = row[fund]\n",
    "            if isinstance(weight, str) and '%' in weight:\n",
    "                weight = float(weight.replace('%', '')) / 100\n",
    "            weights.append(weight)\n",
    "        weights_dict_10[quarter] = weights\n",
    "    \n",
    "    # Function to get quarter from date\n",
    "    def get_quarter_from_date(date):\n",
    "        year = date.year\n",
    "        quarter_num = (date.month - 1) // 3 + 1\n",
    "        return f\"Q{quarter_num} {year}\"\n",
    "    \n",
    "    # Calculate monthly returns\n",
    "    monthly_returns_data = []\n",
    "    \n",
    "    for date in hf_df.index:\n",
    "        quarter = get_quarter_from_date(date)\n",
    "        \n",
    "        # Check if we have weights for this quarter\n",
    "        if quarter in weights_dict_05 and quarter in weights_dict_10:\n",
    "            # Get monthly returns for all funds\n",
    "            monthly_fund_returns = hf_df.loc[date, fund_columns].values\n",
    "            \n",
    "            # Calculate portfolio returns\n",
    "            portfolio_return_05 = sum(w * r for w, r in zip(weights_dict_05[quarter], monthly_fund_returns))\n",
    "            portfolio_return_10 = sum(w * r for w, r in zip(weights_dict_10[quarter], monthly_fund_returns))\n",
    "            \n",
    "            # Multiply by 100 to get percentage returns\n",
    "            monthly_returns_data.append({\n",
    "                'Date': date,\n",
    "                'Risk_Aversion_05': portfolio_return_05,\n",
    "                'Risk_Aversion_10': portfolio_return_10\n",
    "            })\n",
    "    \n",
    "    # Create DataFrame\n",
    "    df_monthly_returns = pd.DataFrame(monthly_returns_data)\n",
    "    df_monthly_returns.set_index('Date', inplace=True)\n",
    "    \n",
    "    return df_monthly_returns"
   ]
  },
  {
   "cell_type": "code",
   "execution_count": 25,
   "id": "e9cf5190",
   "metadata": {},
   "outputs": [
    {
     "name": "stdout",
     "output_type": "stream",
     "text": [
      "Total months processed: 135\n",
      "\n",
      "First 10 rows of monthly returns:\n",
      "            Risk_Aversion_05  Risk_Aversion_10\n",
      "Date                                          \n",
      "2012-01-31          0.037200          0.037200\n",
      "2012-02-29          0.031600          0.031600\n",
      "2012-03-30          0.006100          0.006100\n",
      "2012-04-30         -0.002300         -0.002300\n",
      "2012-05-31         -0.021500         -0.021500\n",
      "2012-06-29          0.001000          0.001000\n",
      "2012-07-31          0.004740          0.001268\n",
      "2012-08-31          0.010643          0.012832\n",
      "2012-09-28          0.015937          0.016632\n",
      "2012-10-31         -0.000924         -0.000924\n"
     ]
    }
   ],
   "source": [
    "# Calculate monthly returns\n",
    "df_monthly_returns = calculate_monthly_portfolio_returns()\n",
    "print(f\"Total months processed: {len(df_monthly_returns)}\")\n",
    "\n",
    "# Display first few rows\n",
    "print(\"\\nFirst 10 rows of monthly returns:\")\n",
    "print(df_monthly_returns.head(10))"
   ]
  },
  {
   "cell_type": "code",
   "execution_count": 26,
   "id": "90f424ae",
   "metadata": {},
   "outputs": [
    {
     "name": "stdout",
     "output_type": "stream",
     "text": [
      "Data types:\n",
      "Risk_Aversion_05    float64\n",
      "Risk_Aversion_10    float64\n",
      "dtype: object\n",
      "\n",
      "First few rows:\n",
      "            Risk_Aversion_05  Risk_Aversion_10\n",
      "Date                                          \n",
      "2012-01-31            0.0372            0.0372\n",
      "2012-02-29            0.0316            0.0316\n",
      "2012-03-30            0.0061            0.0061\n",
      "2012-04-30           -0.0023           -0.0023\n",
      "2012-05-31           -0.0215           -0.0215\n",
      "\n",
      "Sample values:\n",
      "Risk_Aversion_05 sample: 0.0372\n",
      "Type: <class 'numpy.float64'>\n"
     ]
    }
   ],
   "source": [
    "# First, let's check what type of data we actually have\n",
    "print(\"Data types:\")\n",
    "print(df_monthly_returns.dtypes)\n",
    "print(\"\\nFirst few rows:\")\n",
    "print(df_monthly_returns.head())\n",
    "print(\"\\nSample values:\")\n",
    "print(\"Risk_Aversion_05 sample:\", df_monthly_returns['Risk_Aversion_05'].iloc[0])\n",
    "print(\"Type:\", type(df_monthly_returns['Risk_Aversion_05'].iloc[0]))"
   ]
  },
  {
   "cell_type": "code",
   "execution_count": 27,
   "id": "2abb3c92",
   "metadata": {},
   "outputs": [
    {
     "data": {
      "text/plain": [
       "<Figure size 1500x600 with 0 Axes>"
      ]
     },
     "metadata": {},
     "output_type": "display_data"
    },
    {
     "data": {
      "image/png": "[encoded data removed]",
      "text/plain": [
       "<Figure size 1500x600 with 1 Axes>"
      ]
     },
     "metadata": {},
     "output_type": "display_data"
    },
    {
     "name": "stdout",
     "output_type": "stream",
     "text": [
      "\n",
      "Cumulative return stats:\n",
      "Risk Aversion 0.05 - Final cumulative return: 2.5226\n",
      "Risk Aversion 10 - Final cumulative return: 2.4990\n",
      "            Risk_Aversion_05  Risk_Aversion_10\n",
      "Date                                          \n",
      "2012-01-31          1.037200          1.037200\n",
      "2012-02-29          1.069976          1.069976\n",
      "2012-03-30          1.076502          1.076502\n",
      "2012-04-30          1.074026          1.074026\n",
      "2012-05-31          1.050935          1.050935\n"
     ]
    }
   ],
   "source": [
    "df_monthly_returns_numeric = df_monthly_returns.copy()\n",
    "\n",
    "asset_cum_returns = (1 + df_monthly_returns_numeric).cumprod()\n",
    "\n",
    "plt.figure(figsize=(15, 6))\n",
    "asset_cum_returns.plot(figsize=(15, 6), title='Cumulative Portfolio Returns by Risk Aversion')\n",
    "plt.ylabel('Cumulative Return')\n",
    "plt.xlabel('Date')\n",
    "plt.legend(['Risk Aversion λ = 0.05', 'Risk Aversion λ = 10'])\n",
    "plt.grid(True, alpha=0.3)\n",
    "plt.show()\n",
    "\n",
    "print(f\"\\nCumulative return stats:\")\n",
    "print(f\"Risk Aversion 0.05 - Final cumulative return: {asset_cum_returns['Risk_Aversion_05'].iloc[-1]:.4f}\")\n",
    "print(f\"Risk Aversion 10 - Final cumulative return: {asset_cum_returns['Risk_Aversion_10'].iloc[-1]:.4f}\")\n",
    "\n",
    "print(asset_cum_returns.head())"
   ]
  },
  {
   "cell_type": "code",
   "execution_count": 28,
   "id": "7010096c",
   "metadata": {},
   "outputs": [
    {
     "data": {
      "text/html": [
       "<div>\n",
       "<style scoped>\n",
       "    .dataframe tbody tr th:only-of-type {\n",
       "        vertical-align: middle;\n",
       "    }\n",
       "\n",
       "    .dataframe tbody tr th {\n",
       "        vertical-align: top;\n",
       "    }\n",
       "\n",
       "    .dataframe thead th {\n",
       "        text-align: right;\n",
       "    }\n",
       "</style>\n",
       "<table border=\"1\" class=\"dataframe\">\n",
       "  <thead>\n",
       "    <tr style=\"text-align: right;\">\n",
       "      <th></th>\n",
       "      <th>return</th>\n",
       "      <th>vol</th>\n",
       "      <th>Sharpe</th>\n",
       "      <th>Max Drawdown</th>\n",
       "    </tr>\n",
       "  </thead>\n",
       "  <tbody>\n",
       "    <tr>\n",
       "      <th>Risk_Aversion_05</th>\n",
       "      <td>8.572332</td>\n",
       "      <td>7.430682</td>\n",
       "      <td>1.153640</td>\n",
       "      <td>10.488248</td>\n",
       "    </tr>\n",
       "    <tr>\n",
       "      <th>Risk_Aversion_10</th>\n",
       "      <td>8.481738</td>\n",
       "      <td>7.392252</td>\n",
       "      <td>1.147382</td>\n",
       "      <td>10.488248</td>\n",
       "    </tr>\n",
       "  </tbody>\n",
       "</table>\n",
       "</div>"
      ],
      "text/plain": [
       "                    return       vol    Sharpe  Max Drawdown\n",
       "Risk_Aversion_05  8.572332  7.430682  1.153640     10.488248\n",
       "Risk_Aversion_10  8.481738  7.392252  1.147382     10.488248"
      ]
     },
     "execution_count": 28,
     "metadata": {},
     "output_type": "execute_result"
    }
   ],
   "source": [
    "asset_perf = pd.DataFrame(dtype = float, columns = ['return','vol','Sharpe','Max Drawdown'])\n",
    "# calculate performance\n",
    "asset_perf['return'] = (asset_cum_returns.iloc[-1] ** (1/(asset_cum_returns.shape[0]/12)) - 1) * 100\n",
    "asset_perf['vol'] = df_monthly_returns.std() * np.sqrt(12) * 100\n",
    "asset_perf['Sharpe'] = asset_perf['return']/asset_perf['vol']\n",
    "asset_perf['Max Drawdown'] = (1 - asset_cum_returns/asset_cum_returns.cummax()).max() * 100\n",
    "asset_perf"
   ]
  },
  {
   "cell_type": "code",
   "execution_count": null,
   "id": "849e8a38",
   "metadata": {},
   "outputs": [],
   "source": []
  }
 ],
 "metadata": {
  "kernelspec": {
   "display_name": "base",
   "language": "python",
   "name": "python3"
  },
  "language_info": {
   "codemirror_mode": {
    "name": "ipython",
    "version": 3
   },
   "file_extension": ".py",
   "mimetype": "text/x-python",
   "name": "python",
   "nbconvert_exporter": "python",
   "pygments_lexer": "ipython3",
   "version": "3.12.4"
  }
 },
 "nbformat": 4,
 "nbformat_minor": 5
}
