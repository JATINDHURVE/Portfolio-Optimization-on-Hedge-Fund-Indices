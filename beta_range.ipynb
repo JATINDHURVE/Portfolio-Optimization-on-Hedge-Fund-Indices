{
 "cells": [
  {
   "cell_type": "code",
   "execution_count": 3,
   "id": "e100d4a0",
   "metadata": {},
   "outputs": [],
   "source": [
    "import numpy as np\n",
    "from scipy.optimize import minimize\n",
    "import pandas as pd\n",
    "import matplotlib.pyplot as plt\n",
    "import seaborn as sns\n",
    "import os\n",
    "import datetime"
   ]
  },
  {
   "cell_type": "code",
   "execution_count": 4,
   "id": "b867a81c",
   "metadata": {},
   "outputs": [
    {
     "data": {
      "text/html": [
       "<div>\n",
       "<style scoped>\n",
       "    .dataframe tbody tr th:only-of-type {\n",
       "        vertical-align: middle;\n",
       "    }\n",
       "\n",
       "    .dataframe tbody tr th {\n",
       "        vertical-align: top;\n",
       "    }\n",
       "\n",
       "    .dataframe thead th {\n",
       "        text-align: right;\n",
       "    }\n",
       "</style>\n",
       "<table border=\"1\" class=\"dataframe\">\n",
       "  <thead>\n",
       "    <tr style=\"text-align: right;\">\n",
       "      <th></th>\n",
       "      <th>Date</th>\n",
       "      <th>HFRI4FWC</th>\n",
       "      <th>HFRI4ELS</th>\n",
       "      <th>HFRI4ED</th>\n",
       "      <th>HFRI4EHV</th>\n",
       "    </tr>\n",
       "  </thead>\n",
       "  <tbody>\n",
       "    <tr>\n",
       "      <th>0</th>\n",
       "      <td>2005-01-31</td>\n",
       "      <td>0.0047</td>\n",
       "      <td>0.0067</td>\n",
       "      <td>0.0012</td>\n",
       "      <td>0.0049</td>\n",
       "    </tr>\n",
       "    <tr>\n",
       "      <th>1</th>\n",
       "      <td>2005-02-28</td>\n",
       "      <td>0.0198</td>\n",
       "      <td>0.0279</td>\n",
       "      <td>0.0111</td>\n",
       "      <td>0.0219</td>\n",
       "    </tr>\n",
       "    <tr>\n",
       "      <th>2</th>\n",
       "      <td>2005-03-31</td>\n",
       "      <td>-0.0103</td>\n",
       "      <td>-0.0172</td>\n",
       "      <td>0.0002</td>\n",
       "      <td>-0.0111</td>\n",
       "    </tr>\n",
       "    <tr>\n",
       "      <th>3</th>\n",
       "      <td>2005-04-29</td>\n",
       "      <td>-0.0124</td>\n",
       "      <td>-0.0165</td>\n",
       "      <td>-0.0105</td>\n",
       "      <td>-0.0137</td>\n",
       "    </tr>\n",
       "    <tr>\n",
       "      <th>4</th>\n",
       "      <td>2005-05-31</td>\n",
       "      <td>0.0079</td>\n",
       "      <td>0.0122</td>\n",
       "      <td>0.0064</td>\n",
       "      <td>0.0122</td>\n",
       "    </tr>\n",
       "  </tbody>\n",
       "</table>\n",
       "</div>"
      ],
      "text/plain": [
       "        Date  HFRI4FWC  HFRI4ELS  HFRI4ED  HFRI4EHV\n",
       "0 2005-01-31    0.0047    0.0067   0.0012    0.0049\n",
       "1 2005-02-28    0.0198    0.0279   0.0111    0.0219\n",
       "2 2005-03-31   -0.0103   -0.0172   0.0002   -0.0111\n",
       "3 2005-04-29   -0.0124   -0.0165  -0.0105   -0.0137\n",
       "4 2005-05-31    0.0079    0.0122   0.0064    0.0122"
      ]
     },
     "execution_count": 4,
     "metadata": {},
     "output_type": "execute_result"
    }
   ],
   "source": [
    "hf_df = pd.read_excel(\"Data/hedge_funds_returns_data.xlsx\")\n",
    "\n",
    "short_mapping = {\n",
    "    'Date': 'Date',\n",
    "    'HFRI 400 (US) Fund Weighted Composite Index (HFRI4FWC)': 'HFRI4FWC',\n",
    "    'HFRI 400 (US) EH: Long/Short Index (HFRI4ELS)': 'HFRI4ELS',\n",
    "    'HFRI 400 (US) EH: Fundamental Value Index (HFRI4EHV)': 'HFRI4EHV',\n",
    "    'HFRI 400 (US) Event-Driven Index (HFRI4ED)': 'HFRI4ED'\n",
    "    \n",
    "}\n",
    "\n",
    "hf_df = hf_df.rename(columns=short_mapping)\n",
    "hf_df.head()"
   ]
  },
  {
   "cell_type": "code",
   "execution_count": 5,
   "id": "43610059",
   "metadata": {},
   "outputs": [],
   "source": [
    "def clean_data(df):\n",
    "    df = df.set_index('Date')\n",
    "    df = df.dropna()\n",
    "    df.index = pd.to_datetime(df.index)\n",
    "    df = df.sort_index()\n",
    "    return df\n",
    "    \n",
    "hf_df = clean_data(hf_df)"
   ]
  },
  {
   "cell_type": "code",
   "execution_count": 6,
   "id": "bfed17de",
   "metadata": {},
   "outputs": [],
   "source": [
    "HFRI4FWC_beta = pd.read_excel(\"all_output_results/All_Hedge_Fund_Betas/HFRI4FWC_betas.xlsx\")\n",
    "HFRI4ELS_beta = pd.read_excel(\"all_output_results/All_Hedge_Fund_Betas/HFRI4ELS_betas.xlsx\")\n",
    "HFRI4ED_beta = pd.read_excel(\"all_output_results/All_Hedge_Fund_Betas/HFRI4ED_betas.xlsx\")\n",
    "HFRI4EHV_beta = pd.read_excel(\"all_output_results/All_Hedge_Fund_Betas/HFRI4EHV_betas.xlsx\")"
   ]
  },
  {
   "cell_type": "code",
   "execution_count": 3,
   "id": "7a6afd3b",
   "metadata": {},
   "outputs": [],
   "source": [
    "def clean_data(df):\n",
    "    df = df.set_index('Quarter')\n",
    "    df = df.dropna()\n",
    "    df.index = pd.to_datetime(df.index.str.replace(' Q', 'Q')) \n",
    "    df = df.sort_index()\n",
    "    return df"
   ]
  },
  {
   "cell_type": "code",
   "execution_count": null,
   "id": "8e17a5ee",
   "metadata": {},
   "outputs": [
    {
     "name": "stderr",
     "output_type": "stream",
     "text": [
      "/var/folders/ky/n1n3tvzn3zb6_44x8nfzwn700000gn/T/ipykernel_71415/3619432106.py:4: UserWarning: Could not infer format, so each element will be parsed individually, falling back to `dateutil`. To ensure parsing is consistent and as-expected, please specify a format.\n",
      "  df.index = pd.to_datetime(df.index.str.replace(' Q', 'Q'))\n",
      "/var/folders/ky/n1n3tvzn3zb6_44x8nfzwn700000gn/T/ipykernel_71415/3619432106.py:4: UserWarning: Could not infer format, so each element will be parsed individually, falling back to `dateutil`. To ensure parsing is consistent and as-expected, please specify a format.\n",
      "  df.index = pd.to_datetime(df.index.str.replace(' Q', 'Q'))\n",
      "/var/folders/ky/n1n3tvzn3zb6_44x8nfzwn700000gn/T/ipykernel_71415/3619432106.py:4: UserWarning: Could not infer format, so each element will be parsed individually, falling back to `dateutil`. To ensure parsing is consistent and as-expected, please specify a format.\n",
      "  df.index = pd.to_datetime(df.index.str.replace(' Q', 'Q'))\n",
      "/var/folders/ky/n1n3tvzn3zb6_44x8nfzwn700000gn/T/ipykernel_71415/3619432106.py:4: UserWarning: Could not infer format, so each element will be parsed individually, falling back to `dateutil`. To ensure parsing is consistent and as-expected, please specify a format.\n",
      "  df.index = pd.to_datetime(df.index.str.replace(' Q', 'Q'))\n"
     ]
    }
   ],
   "source": [
    "HFRI4FWC_beta = clean_data(HFRI4FWC_beta)\n",
    "HFRI4ELS_beta = clean_data(HFRI4ELS_beta)\n",
    "HFRI4ED_beta = clean_data(HFRI4ED_beta)\n",
    "HFRI4EHV_beta = clean_data(HFRI4EHV_beta)"
   ]
  },
  {
   "cell_type": "code",
   "execution_count": 5,
   "id": "28cec0a6",
   "metadata": {},
   "outputs": [],
   "source": [
    "def get_beta_ranges(df, buffer=0.05):\n",
    "    ranges = {}\n",
    "    \n",
    "    for col in df.columns:\n",
    "        mean = df[col].mean()\n",
    "        std = df[col].std()\n",
    "        min_val = df[col].min()\n",
    "        max_val = df[col].max()\n",
    "        q10, q25, q75, q90 = df[col].quantile([0.1, 0.25, 0.75, 0.9])\n",
    "        \n",
    "        ranges[col] = {\n",
    "            'conservative': [q25, q75],\n",
    "            'moderate': [q10, q90],\n",
    "            'aggressive': [mean - 1.5*std, mean + 1.5*std],\n",
    "            'historical': [min_val + buffer, max_val - buffer]\n",
    "        }\n",
    "    \n",
    "    return ranges"
   ]
  },
  {
   "cell_type": "code",
   "execution_count": 6,
   "id": "55c7bd4e",
   "metadata": {},
   "outputs": [
    {
     "data": {
      "text/plain": [
       "{'β_Mkt-RF': {'conservative': [0.1729256245634997, 0.4008870053713103],\n",
       "  'moderate': [0.08777342016761672, 0.5477569142070862],\n",
       "  'aggressive': [-0.1587392029229776, 0.8102648950215637],\n",
       "  'historical': [-0.2405588629492254, 1.653534777651084]},\n",
       " 'β_SMB': {'conservative': [-0.232254808626075, 0.44672131147541],\n",
       "  'moderate': [-0.5071239717390156, 0.7384212538138806],\n",
       "  'aggressive': [-2.2984688518250715, 2.1907557483562554],\n",
       "  'historical': [-8.254347826086956, 3.327758274824474]},\n",
       " 'β_HML': {'conservative': [-0.1529573917778382, 0.3738078639653301],\n",
       "  'moderate': [-0.5037642022315915, 0.7207601546313963],\n",
       "  'aggressive': [-0.9876969697866784, 1.3192665884760106],\n",
       "  'historical': [-1.49296087131908, 3.6277251184834114]},\n",
       " 'β_Mom': {'conservative': [-0.2719524634268228, 0.155590886662855],\n",
       "  'moderate': [-0.4651156578552757, 0.3122749053302649],\n",
       "  'aggressive': [-0.6655497035539654, 0.5775472831682275],\n",
       "  'historical': [-0.8940463065049615, 1.608056042031524]}}"
      ]
     },
     "execution_count": 6,
     "metadata": {},
     "output_type": "execute_result"
    }
   ],
   "source": [
    "get_beta_ranges(HFRI4FWC_beta)"
   ]
  },
  {
   "cell_type": "code",
   "execution_count": 7,
   "id": "7bb77d35",
   "metadata": {},
   "outputs": [
    {
     "name": "stdout",
     "output_type": "stream",
     "text": [
      "[0.1729256245634997, 0.4008870053713103]\n",
      "[-0.5071239717390156, 0.7384212538138806]\n"
     ]
    }
   ],
   "source": [
    "ranges = get_beta_ranges(HFRI4FWC_beta)\n",
    "\n",
    "# Access specific ranges\n",
    "print(ranges['β_Mkt-RF']['conservative'])  # [0.35, 0.45]\n",
    "print(ranges['β_SMB']['moderate'])         # [0.2, 0.85]"
   ]
  },
  {
   "cell_type": "code",
   "execution_count": 18,
   "id": "91528a22",
   "metadata": {},
   "outputs": [],
   "source": [
    "def find_optimal_ranges_multi_assets(beta_dfs_dict, returns_df, risk_free_rate=0.02):\n",
    "    \"\"\"\n",
    "    Find optimal beta ranges using multiple assets' betas and their returns\n",
    "    \n",
    "    Parameters:\n",
    "    beta_dfs_dict: Dictionary of DataFrames {'asset_name': beta_df, ...}\n",
    "    returns_df: DataFrame with returns for all assets (columns should match asset names)\n",
    "    risk_free_rate: Annual risk-free rate\n",
    "    \"\"\"\n",
    "    \n",
    "    # Get ranges from first asset (assuming similar factor structure)\n",
    "    first_asset = list(beta_dfs_dict.keys())[0]\n",
    "    ranges = get_beta_ranges(beta_dfs_dict[first_asset])\n",
    "    \n",
    "    results = {}\n",
    "    \n",
    "    # For each factor, test ranges across all assets\n",
    "    for factor in beta_dfs_dict[first_asset].columns:\n",
    "        factor_results = {}\n",
    "        \n",
    "        for range_type in ['conservative', 'moderate', 'aggressive', 'historical']:\n",
    "            lower, upper = ranges[factor][range_type]\n",
    "            \n",
    "            all_returns_in_range = []\n",
    "            total_periods = 0\n",
    "            \n",
    "            # Check each asset\n",
    "            for asset_name, beta_df in beta_dfs_dict.items():\n",
    "                if factor in beta_df.columns and asset_name in returns_df.columns:\n",
    "                    \n",
    "                    # Convert to period index for matching\n",
    "                    beta_df_copy = beta_df.copy()\n",
    "                    beta_df_copy.index = pd.PeriodIndex(beta_df_copy.index, freq='Q')\n",
    "                    \n",
    "                    returns_df_copy = returns_df.copy()\n",
    "                    returns_df_copy.index = pd.PeriodIndex(returns_df_copy.index, freq='M')\n",
    "                    \n",
    "                    # Find quarters where this asset's beta is in range\n",
    "                    in_range_quarters = beta_df_copy[(beta_df_copy[factor] >= lower) & \n",
    "                                                   (beta_df_copy[factor] <= upper)].index\n",
    "                    \n",
    "                    if len(in_range_quarters) > 0:\n",
    "                        # Get monthly returns for this asset in those quarters\n",
    "                        for quarter in in_range_quarters:\n",
    "                            quarter_months = returns_df_copy[\n",
    "                                returns_df_copy.index.to_timestamp().to_period('Q') == quarter\n",
    "                            ][asset_name]\n",
    "                            \n",
    "                            if not quarter_months.empty:\n",
    "                                all_returns_in_range.extend(quarter_months.values)\n",
    "                        \n",
    "                        total_periods += len(in_range_quarters)\n",
    "            \n",
    "            # Calculate combined performance metrics\n",
    "            if len(all_returns_in_range) > 0:\n",
    "                combined_returns = pd.Series(all_returns_in_range)\n",
    "                \n",
    "                avg_monthly_return = combined_returns.mean()\n",
    "                monthly_risk = combined_returns.std()\n",
    "                \n",
    "                # Annualized metrics\n",
    "                annual_return = (1 + avg_monthly_return) ** 12 - 1\n",
    "                annual_risk = monthly_risk * np.sqrt(12)\n",
    "                sharpe = (annual_return - risk_free_rate) / annual_risk if annual_risk > 0 else 0\n",
    "                \n",
    "                factor_results[range_type] = {\n",
    "                    'range': [lower, upper],\n",
    "                    'total_observations': len(all_returns_in_range),\n",
    "                    'total_quarters': total_periods,\n",
    "                    'avg_monthly_return': avg_monthly_return,\n",
    "                    'annual_return': annual_return,\n",
    "                    'annual_risk': annual_risk,\n",
    "                    'sharpe': sharpe\n",
    "                }\n",
    "        \n",
    "        results[factor] = factor_results\n",
    "    \n",
    "    return results\n",
    "\n",
    "# Usage:\n",
    "beta_assets = {\n",
    "    'HFRI4FWC': HFRI4FWC_beta,\n",
    "    'HFRI4ELS': HFRI4ELS_beta, \n",
    "    'HFRI4ED': HFRI4ED_beta,\n",
    "    'HFRI4EHV': HFRI4EHV_beta\n",
    "}\n",
    "\n",
    "optimal_results = find_optimal_ranges_multi_assets(beta_assets, hf_df)"
   ]
  },
  {
   "cell_type": "code",
   "execution_count": 19,
   "id": "b26a3a17",
   "metadata": {},
   "outputs": [
    {
     "name": "stdout",
     "output_type": "stream",
     "text": [
      "Optimal Beta Ranges (All Assets Combined):\n",
      "β_Mkt-RF: [0.173, 0.401] (Sharpe: 0.816, Obs: 198)\n",
      "β_SMB: [-0.232, 0.447] (Sharpe: 1.460, Obs: 246)\n",
      "β_HML: [-0.153, 0.374] (Sharpe: 1.223, Obs: 237)\n",
      "β_Mom: [-0.272, 0.156] (Sharpe: 0.936, Obs: 222)\n"
     ]
    }
   ],
   "source": [
    "# Find best ranges across all assets\n",
    "best_ranges = {}\n",
    "for factor in optimal_results:\n",
    "    best_sharpe = -999\n",
    "    best_range_type = None\n",
    "    \n",
    "    for range_type in optimal_results[factor]:\n",
    "        if optimal_results[factor][range_type]['sharpe'] > best_sharpe:\n",
    "            best_sharpe = optimal_results[factor][range_type]['sharpe']\n",
    "            best_range_type = range_type\n",
    "    \n",
    "    if best_range_type:\n",
    "        best_ranges[factor] = {\n",
    "            'best_type': best_range_type,\n",
    "            'range': optimal_results[factor][best_range_type]['range'],\n",
    "            'sharpe': best_sharpe,\n",
    "            'observations': optimal_results[factor][best_range_type]['total_observations']\n",
    "        }\n",
    "\n",
    "print(\"Optimal Beta Ranges (All Assets Combined):\")\n",
    "for factor, info in best_ranges.items():\n",
    "    lower, upper = info['range']\n",
    "    print(f\"{factor}: [{lower:.3f}, {upper:.3f}] (Sharpe: {info['sharpe']:.3f}, Obs: {info['observations']})\")"
   ]
  },
  {
   "cell_type": "code",
   "execution_count": null,
   "id": "1ae55664",
   "metadata": {},
   "outputs": [],
   "source": []
  },
  {
   "cell_type": "code",
   "execution_count": null,
   "id": "6a68e6e1",
   "metadata": {},
   "outputs": [],
   "source": []
  }
 ],
 "metadata": {
  "kernelspec": {
   "display_name": "base",
   "language": "python",
   "name": "python3"
  },
  "language_info": {
   "codemirror_mode": {
    "name": "ipython",
    "version": 3
   },
   "file_extension": ".py",
   "mimetype": "text/x-python",
   "name": "python",
   "nbconvert_exporter": "python",
   "pygments_lexer": "ipython3",
   "version": "3.12.4"
  }
 },
 "nbformat": 4,
 "nbformat_minor": 5
}
